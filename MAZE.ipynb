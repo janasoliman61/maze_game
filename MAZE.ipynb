{
 "cells": [
  {
   "cell_type": "code",
   "execution_count": 4,
   "metadata": {},
   "outputs": [],
   "source": [
    "from pyamaze import maze,agent,textLabel,COLOR\n",
    "from queue import PriorityQueue\n",
    "def h(cell1,cell2):\n",
    "    x1,y1=cell1\n",
    "    x2,y2=cell2\n",
    "    return abs(x1-x2)+abs(y1-y2)   #manhattan distance\n",
    "def astar(m):\n",
    "    start=(m.rows,m.cols) #last row last column\n",
    "    g_score={cell:float('inf')for cell in m.grid} #value infinity\n",
    "    g_score[start]=0\n",
    "    f_score={cell:float('inf')for cell in m.grid}\n",
    "    f_score[start]=h(start,(1,1)) #goal cell is cel (1,1)\n",
    "\n",
    "    open=PriorityQueue()\n",
    "    open.put((h(start,(1,1)),h(start,(1,1)),start))\n",
    "    # hm7ot feha el info of the start cell\n",
    "    # awl wahda de el fn =gn+hn\n",
    "    apath={}\n",
    "    while not open.empty():\n",
    "        currcell=open.get()[2]    # htakhod el minimum value of fn mn el priority queue w 2 de hya el third element mn eltuple\n",
    "        if currcell==(1,1):      #de el goal\n",
    "            break\n",
    "        # for neighbour in maze.neighbours(currcell):\n",
    "        for d in 'ESNW':\n",
    "            if m.maze_map[currcell][d] == True:  # direction mn directions mftouh fl currcell bn3ml elhgat de\n",
    "                if d=='E':              # y3ny hya htmshy on the right side\n",
    "                    childcell=(currcell[0],currcell[1]+1)\n",
    "                if d=='W':              # \n",
    "                    childcell=(currcell[0],currcell[1]-1)\n",
    "                if d=='N':              # \n",
    "                    childcell=(currcell[0]-1,currcell[1])\n",
    "                if d=='S':              #\n",
    "                    childcell=(currcell[0]+1,currcell[1])\n",
    "                temp_g_score=g_score[currcell]+1   #update ll g score\n",
    "                temp_f_score=temp_g_score+h(childcell,(1,1))\n",
    "            # fkol  loop wahda mnhom bs elyb htb2a true\n",
    "\n",
    "                if temp_f_score < f_score[childcell]: #lw asghr bn update \n",
    "                    g_score[childcell]=temp_g_score\n",
    "                    f_score[childcell]=temp_f_score\n",
    "                    open.put((temp_f_score,h(childcell,(1,1)),childcell)) #bn update fl priority queue \n",
    "                    apath[childcell]=currcell  \n",
    "                # 3shan mynf3sh key yb2a 3ndo aktr mn value f 3ksnaha  3shan 3ady yb2a aktr mn key 3ndo value wahed\n",
    "                \n",
    "    fwdpath={}            \n",
    "    cell=(1,1)\n",
    "    while cell!=start :          \n",
    "        fwdpath[apath[cell]]=cell        \n",
    "        cell=apath[cell]\n",
    "    return fwdpath        \n",
    "                \n",
    "                \n",
    "                \n",
    "m=maze(7,7)\n",
    "m.CreateMaze()\n",
    "path=astar(m)\n",
    "# print(m.maze_map)\n",
    "# htl3ly dictionary keys el points and values dictionary tanya feha el directions eh elmfto7 w eh la\n",
    "# print(m.grid) #list of cells inside the maze\n",
    "a=agent(m,footprints=3)\n",
    "m.tracePath({a:path})\n",
    "l=textLabel(m,'A star length',len(path)+1)\n",
    "\n",
    "m.run()"
   ]
  },
  {
   "cell_type": "code",
   "execution_count": null,
   "metadata": {},
   "outputs": [],
   "source": [
    "# elfirst cell hya el goal cell by default\n"
   ]
  }
 ],
 "metadata": {
  "kernelspec": {
   "display_name": "Python 3.10.8 64-bit",
   "language": "python",
   "name": "python3"
  },
  "language_info": {
   "codemirror_mode": {
    "name": "ipython",
    "version": 3
   },
   "file_extension": ".py",
   "mimetype": "text/x-python",
   "name": "python",
   "nbconvert_exporter": "python",
   "pygments_lexer": "ipython3",
   "version": "3.10.8"
  },
  "orig_nbformat": 4,
  "vscode": {
   "interpreter": {
    "hash": "26de051ba29f2982a8de78e945f0abaf191376122a1563185a90213a26c5da77"
   }
  }
 },
 "nbformat": 4,
 "nbformat_minor": 2
}
